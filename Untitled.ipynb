{
 "cells": [
  {
   "cell_type": "code",
   "execution_count": 4,
   "id": "5b66d98e",
   "metadata": {},
   "outputs": [
    {
     "name": "stdout",
     "output_type": "stream",
     "text": [
      "['Sunny' 'Warm' 'Normal' 'Strong' 'Warm' 'Same']\n",
      "['Sunny' 'Warm' '?' 'Strong' 'Warm' 'Same']\n",
      "['Sunny' 'Warm' '?' 'Strong' 'Warm' 'Same']\n",
      "['Sunny' 'Warm' '?' 'Strong' '?' '?']\n",
      "['Sunny' 'Warm' '?' 'Strong' '?' '?']\n"
     ]
    }
   ],
   "source": [
    "import numpy as np\n",
    "import pandas as pd\n",
    "data = pd.read_csv(\"weather.csv\", header = None)\n",
    "data = np.array(data)\n",
    "ans = data[0]\n",
    "for i in data:\n",
    "    if i[-1] == 'Yes':\n",
    "        for j in range(0, len(i) -1):\n",
    "            if ans[j] == 'Q':\n",
    "                ans[j]!= i[j]\n",
    "            elif ans[j]!= i[j]:\n",
    "                ans[j] = '?'\n",
    "    print(ans[: -1])\n",
    "print(ans[: -1])"
   ]
  },
  {
   "cell_type": "code",
   "execution_count": null,
   "id": "21dd804b",
   "metadata": {},
   "outputs": [],
   "source": []
  },
  {
   "cell_type": "code",
   "execution_count": null,
   "id": "3c0c5951",
   "metadata": {},
   "outputs": [],
   "source": []
  }
 ],
 "metadata": {
  "kernelspec": {
   "display_name": "Python 3 (ipykernel)",
   "language": "python",
   "name": "python3"
  },
  "language_info": {
   "codemirror_mode": {
    "name": "ipython",
    "version": 3
   },
   "file_extension": ".py",
   "mimetype": "text/x-python",
   "name": "python",
   "nbconvert_exporter": "python",
   "pygments_lexer": "ipython3",
   "version": "3.9.7"
  }
 },
 "nbformat": 4,
 "nbformat_minor": 5
}
